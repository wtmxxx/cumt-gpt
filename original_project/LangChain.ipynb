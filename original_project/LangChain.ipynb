{
 "cells": [
  {
   "cell_type": "code",
   "id": "initial_id",
   "metadata": {
    "collapsed": true,
    "ExecuteTime": {
     "end_time": "2024-10-13T13:51:26.939301Z",
     "start_time": "2024-10-13T13:51:26.935820Z"
    }
   },
   "source": [
    "from xml.dom.minidom import Document\n",
    "\n",
    "# 导入模型\n",
    "from langchain_community.llms import Ollama\n",
    "llm = Ollama(model=\"qwen2.5:7b\")"
   ],
   "outputs": [],
   "execution_count": 47
  },
  {
   "cell_type": "code",
   "source": [
    "# 普通提问\n",
    "llm.invoke(\"你知道矿小助吗\")"
   ],
   "metadata": {
    "collapsed": false,
    "ExecuteTime": {
     "end_time": "2024-10-13T13:51:29.241616Z",
     "start_time": "2024-10-13T13:51:26.962098Z"
    }
   },
   "id": "44ad36506054c0d4",
   "outputs": [
    {
     "data": {
      "text/plain": [
       "'“矿小助”这个名字听起来像是一个提供矿业相关服务或技术支持的虚拟助手的名字。不过，具体到某个特定的服务或者产品，“矿小助”目前没有明确广泛认知的信息。有可能是某个公司内部开发的应用程序、服务平台或者是社交媒体账号的一部分名称。\\n\\n如果你是在询问某款软件、工具或是某个公司的客户服务代表的话，请提供更多细节信息，我会尽力提供帮助或解答你的疑问。'"
      ]
     },
     "execution_count": 48,
     "metadata": {},
     "output_type": "execute_result"
    }
   ],
   "execution_count": 48
  },
  {
   "cell_type": "code",
   "source": [
    "# 使用 prompt | llm 链\n",
    "from langchain_core.prompts import ChatPromptTemplate\n",
    "prompt = ChatPromptTemplate.from_messages([\n",
    "    (\"system\", \"你是一个AI助手\"),\n",
    "    (\"user\", \"{input}\")\n",
    "])\n",
    "chain = prompt | llm\n",
    "temp = chain.invoke({\"input\": \"你是谁\"})\n",
    "print(temp)"
   ],
   "metadata": {
    "collapsed": false,
    "ExecuteTime": {
     "end_time": "2024-10-13T13:51:30.116500Z",
     "start_time": "2024-10-13T13:51:29.252619Z"
    }
   },
   "id": "918288a49601321c",
   "outputs": [
    {
     "name": "stdout",
     "output_type": "stream",
     "text": [
      "我是Qwen，一个由阿里云开发的AI助手。我可以帮助解答问题、提供信息和进行各种对话。您有什么想要了解或讨论的话题吗？\n"
     ]
    }
   ],
   "execution_count": 49
  },
  {
   "cell_type": "markdown",
   "source": [],
   "metadata": {
    "collapsed": false
   },
   "id": "8a90a50c6c6d0117"
  },
  {
   "cell_type": "code",
   "source": [
    "# 使用 prompt | llm | output_parser 链\n",
    "from langchain_core.output_parsers import StrOutputParser\n",
    "\n",
    "output_parser = StrOutputParser()\n",
    "chain = prompt | llm | output_parser\n",
    "chain.invoke({\"input\": \"你好\"})"
   ],
   "metadata": {
    "collapsed": false,
    "ExecuteTime": {
     "end_time": "2024-10-13T13:51:30.500540Z",
     "start_time": "2024-10-13T13:51:30.131804Z"
    }
   },
   "id": "faecbd07367650bc",
   "outputs": [
    {
     "data": {
      "text/plain": [
       "'你好！很高兴遇见你。有什么问题或者需要帮助的吗？'"
      ]
     },
     "execution_count": 50,
     "metadata": {},
     "output_type": "execute_result"
    }
   ],
   "execution_count": 50
  },
  {
   "cell_type": "code",
   "source": [
    "# 设置代码中的USER_AGENT环境\n",
    "import os\n",
    "os.environ[\"USER_AGENT\"] = \"Mozilla/5.0 (Windows NT 10.0; Win64; x64) AppleWebKit/537.36 (KHTML, like Gecko) Chrome/58.0.3029.110 Safari/537.3\""
   ],
   "metadata": {
    "collapsed": false,
    "ExecuteTime": {
     "end_time": "2024-10-13T13:51:30.509536Z",
     "start_time": "2024-10-13T13:51:30.507592Z"
    }
   },
   "id": "168cd95647f75707",
   "outputs": [],
   "execution_count": 51
  },
  {
   "cell_type": "code",
   "source": [
    "# 通过bs4引入外部数据\n",
    "from langchain_community.document_loaders import WebBaseLoader\n",
    "loader = WebBaseLoader(\"https://www.cumt.edu.cn/info/1128/67688.htm\")\n",
    "\n",
    "docs = loader.load()"
   ],
   "metadata": {
    "collapsed": false,
    "ExecuteTime": {
     "end_time": "2024-10-13T13:51:30.549637Z",
     "start_time": "2024-10-13T13:51:30.516797Z"
    }
   },
   "id": "c72f817f81d3ef5f",
   "outputs": [],
   "execution_count": 52
  },
  {
   "cell_type": "code",
   "source": [
    "# 引入embedding model\n",
    "from langchain_community.embeddings import OllamaEmbeddings\n",
    "\n",
    "embeddings = OllamaEmbeddings(model=\"qwen2.5:7b\")"
   ],
   "metadata": {
    "collapsed": false,
    "ExecuteTime": {
     "end_time": "2024-10-13T13:51:30.558477Z",
     "start_time": "2024-10-13T13:51:30.555430Z"
    }
   },
   "id": "6ca3ac6daa0b6864",
   "outputs": [],
   "execution_count": 53
  },
  {
   "cell_type": "code",
   "source": [
    "from langchain_community.vectorstores import FAISS\n",
    "from langchain_text_splitters import RecursiveCharacterTextSplitter\n",
    "\n",
    "\n",
    "text_splitter = RecursiveCharacterTextSplitter() # 递归字符分割器\n",
    "documents = text_splitter.split_documents(docs) # 分割文档\n",
    "print(documents)\n",
    "vector = FAISS.from_documents(documents, embeddings) # EMBED向量化\n",
    "# vector.save_local()\n",
    "print(vector.embeddings)\n"
   ],
   "metadata": {
    "collapsed": false,
    "ExecuteTime": {
     "end_time": "2024-10-13T13:51:31.599732Z",
     "start_time": "2024-10-13T13:51:30.565575Z"
    }
   },
   "id": "3beae6fb17294fac",
   "outputs": [
    {
     "name": "stdout",
     "output_type": "stream",
     "text": [
      "[Document(metadata={'source': 'https://www.cumt.edu.cn/info/1128/67688.htm', 'title': '关于2024年中秋节、国庆节放假安排的通知-中国矿业大学', 'description': '各学院、部、处、室，各有关单位：根据《国务院办公厅关于2024年部分节假日安排的通知》（国办发明电〔2023〕7号），结合学校实际，现将我校2024年中秋节、国庆节放假安排通知如下：一、时间安排1.中秋节：9月15日（...', 'language': 'en'}, page_content='关于2024年中秋节、国庆节放假安排的通知-中国矿业大学\\n\\n\\n\\n\\n\\n\\n\\n\\n\\n\\n\\n\\n\\n\\n\\n\\n\\n\\n\\n\\n\\n\\n\\n\\n\\n\\n\\n\\n\\n\\n\\n\\n\\n在校学生\\n\\n\\n\\n在校学生\\n教职员工\\n毕业校友\\n未来学生\\n\\n\\n\\n\\n\\nEN\\n\\n\\n\\n\\n \\n\\n\\n\\n\\n\\n\\n\\n\\n \\n\\n 网站首页\\n\\n 学校概况\\n\\n\\n学校简介\\n\\n矿大章程\\n\\n历史沿革\\n\\n历任领导\\n\\n现任领导\\n\\n基本数据\\n\\n知名学者\\n\\n校园文化\\n\\n虚拟校园\\n\\n联系我们\\n\\n\\n\\n\\n 机构设置\\n\\n\\n党群组织\\n\\n行政管理\\n\\n学院设置\\n\\n科研机构\\n\\n直附属单位\\n\\n产业单位\\n\\n其他\\n\\n\\n\\n\\n 教育教学\\n\\n\\n教务部\\n\\n研究生院\\n\\n国际学院\\n\\n继续教育学院\\n\\n教师教学发展中心\\n\\n在线学习（MOOC）平台\\n\\n图书馆\\n\\n公共教学服务中心\\n\\n\\n\\n\\n 科学研究\\n\\n\\n科学技术研究院\\n\\n人文社会科学处\\n\\n科研平台\\n\\n科研项目\\n\\n科研团队\\n\\n科研成果\\n\\n学术期刊\\n\\n现代分析与计算中心\\n\\n\\n\\n\\n\\n\\n\\n\\n\\n \\n \\n\\n 学科建设\\n\\n\\n学科建设处\\n\\n“双一流”建设\\n\\n重点学科\\n\\n学位授权点\\n\\n\\n\\n\\n 合作交流\\n\\n\\n国际合作交流处\\n\\n国际矿业联盟\\n\\n对外合作与发展处\\n\\n理事会\\n\\n校友会\\n\\n教育发展基金会\\n\\n矿大培训网\\n\\n\\n\\n\\n 人才招聘\\n\\n\\n人力资源部\\n\\n高层次人才\\n\\n专任教师\\n\\n博士后\\n\\n\\n\\n\\n 招生就业\\n\\n\\n本科生招生\\n\\n研究生招生\\n\\n继续教育招生\\n\\n出国留学\\n\\n来华留学\\n\\n就业指导\\n\\n\\n\\n\\n 相关链接\\n\\n\\n中国矿业大学（北京）\\n\\n徐海学院\\n\\n国家大学科技园\\n\\n矿大出版社\\n\\n中国矿业大学工程咨询研究院（江苏）有限公司\\n\\n矿大附属医院（市一院）\\n\\n\\n\\n\\n\\n\\n\\n\\n\\n\\n\\n\\n\\n\\n\\n\\n\\n \\n\\n\\n\\n  \\n\\n\\n\\n\\n\\n\\n\\n\\n\\n\\n\\n\\n\\n\\n\\n网站首页 \\n\\n信息公告\\n\\n\\n\\n学校概况 \\n\\n学校简介\\n矿大章程\\n历史沿革\\n历任领导\\n现任领导\\n基本数据\\n知名学者\\n校园文化\\n虚拟校园\\n联系我们\\n\\n\\n\\n机构设置 \\n\\n党群组织\\n行政管理\\n学院设置\\n科研机构\\n直附属单位\\n产业单位\\n其他\\n\\n\\n\\n教育教学 \\n\\n教务部\\n研究生院\\n国际学院\\n继续教育学院\\n教师教学发展中心\\n在线学习（MOOC）平台\\n图书馆\\n公共教学服务中心\\n\\n\\n\\n科学研究 \\n\\n科学技术研究院\\n人文社会科学处\\n科研平台\\n科研项目\\n科研团队\\n科研成果\\n学术期刊\\n现代分析与计算中心\\n\\n\\n\\n学科建设 \\n\\n学科建设处\\n“双一流”建设\\n重点学科\\n学位授权点\\n\\n\\n\\n合作交流 \\n\\n国际合作交流处\\n国际矿业联盟\\n对外合作与发展处\\n理事会\\n校友会\\n教育发展基金会\\n矿大培训网\\n\\n\\n\\n人才招聘 \\n\\n人力资源部\\n高层次人才\\n专任教师\\n博士后\\n\\n\\n\\n招生就业 \\n\\n本科生招生\\n研究生招生\\n继续教育招生\\n出国留学\\n来华留学\\n就业指导\\n\\n\\n\\n相关链接 \\n\\n中国矿业大学（北京）\\n徐海学院\\n国家大学科技园\\n矿大出版社\\n中国矿业大学工程咨询研究院（江苏）有限公司\\n矿大附属医院（市一院）\\n\\n\\n\\n\\nEN\\n\\n\\n\\n信息公告\\n\\n\\n融合门户\\n\\n\\n协同办公\\n\\n\\n信息公开\\n\\n\\n领导信箱\\n\\n\\n矿大邮箱\\n\\n\\n师生热线\\n\\n\\n\\n\\n\\n\\n\\n\\n\\n\\n\\n\\n\\n\\n\\n\\n\\n\\n\\n\\n\\n\\n\\n\\n\\n\\n\\n\\n\\n\\n\\n\\n\\n\\n\\n\\n网站首页\\n\\n信息公告\\n\\n\\n\\n\\n\\n\\n\\n\\n\\n网站首页\\n\\n\\n\\n信息公告\\n\\n\\n\\n\\n\\n信息公告\\n\\n网站首页\\r\\n                        >>\\r\\n                信息公告\\r\\n                        >>\\r\\n                正文\\n\\n\\n\\n\\n\\n关于2024年中秋节、国庆节放假安排的通知\\n作者：谢刚 日期：2024-09-10浏览量： \\n\\n各学院、部、处、室，各有关单位：根据《国务院办公厅关于2024年部分节假日安排的通知》（国办发明电〔2023〕7号），结合学校实际，现将我校2024年中秋节、国庆节放假安排通知如下：一、时间安排1.中秋节：9月15日（星期日）至9月17日（星期二）放假调休，共3天，9月14日（星期六）上班。2.国庆节：10月1日（星期二）至7日（星期一）放假调休，共7天。9月29日（星期日）、10月12日（星期六）上班。二、值班安排放假期间，学校设24小时总值班室，地点在南湖校区行健楼A427室。学生工作处、保卫处、总务部设立分值班室，其中，学生工作处、保卫处24小时值班。值班电话如下：学校总值班室：83590060学生工作处：83590180保卫处：83590110（南湖校区），83885760（文昌校区）总务部：83592333其他部门和各学院根据实际情况安排人员做好值班工作。三、相关要求1.各二级单位党组织要认真落实党风廉政建设的主体责任，对教职工开展教育提醒和监督检查工作，坚决抵制各种不良风气和消极腐败现象，积极营造风清气正的育人环境。党员领导干部要带头遵规守纪，率先垂范，带动和引导全校师生员工廉洁、节俭、文明过节，大力弘扬高尚师德师风。2.各单位要严格执行领导带班和领导干部外出报备制度，确保各项工作正常有序运转。要完善应急机制，遇有突发事件或紧急情况发生，要按规定及时报告并妥善处置。3.要严格落实安全工作责任制和责任追究制度，本着“谁主管、谁负责”的原则，加强对师生员工的安全宣传教育，全面做好实验室安全、食品安全、宿舍安全、交通安全等各项安全工作，确保假期期间安全稳定。4.今年是中华人民共和国成立75周年，宣传部、校工会、总务部等部门要做好节日期间的校园环境布置及卫生美化工作。校工会、校团委、学生工作处、离退休工作处等单位及各学院要妥善安排好师生员工的相关活动，丰富节假日生活，营造良好的节日氛围。5.请各单位将中秋节、国庆节假期值班安排（值班人员名单、值班地点、值班电话等），分别于9月14日、9月30日下班前，通过协同办公系统报送假期值班安排（值班人员名单、值班地点、值班电话等），并在本单位网站予以公开。（联系人：杨杨，联系电话：83590012）。特此通知中国矿业大学 2024年9月9日 \\xa0\\n\\n\\n\\n上一条：关于2024年江苏省模范教师推荐对象的公示 \\n下一条：心怀师恩，奋进青春——2024年教师节倡议书\\n\\n\\n\\n\\n\\r\\n                                返回列表\\r\\n                            \\n\\n \\n\\n\\n\\n\\n\\n\\n\\n\\n\\n\\n快速通道\\n\\n 融合门户\\n 协同办公\\n 邮件系统\\n 领导信箱\\n 师生热线\\n 图书馆\\n 一网通办\\n 学术期刊\\n 正版软件\\n 仪器共享\\n 教师主页\\n 规章制度\\n 公共服务\\n VPN\\n\\n常用链接\\n\\n 新闻网\\n 理事会\\n 教代会\\n 校友会\\n 基金会\\n 网络服务\\n 采购招标\\n 人才招聘\\n 信息公开\\n 师德师风\\n 矿大云盘\\n e矿大2.0\\n 访客入校\\n 迎新网\\n\\n\\n\\n\\n  \\n\\n\\n联系我们\\n\\n地址：江苏省徐州市大学路1号中国矿业大学南湖校区\\n邮编：221116\\n\\n\\n\\n\\n\\n\\n\\n\\n\\n\\n\\n\\n\\n\\n\\n\\n\\n\\n\\n\\n\\n\\n\\n\\n\\n\\n\\n\\n\\n\\n\\n\\n\\n\\n\\n\\n\\n\\n\\n\\n\\n\\n\\n版权所有：中国矿业大学 \\xa0 \\xa0苏ICP备05007141号-1 \\xa0\\xa0 \\xa0苏公网安备 32031102000872号')]\n",
      "base_url='http://localhost:11434' model='qwen2.5:7b' embed_instruction='passage: ' query_instruction='query: ' mirostat=None mirostat_eta=None mirostat_tau=None num_ctx=None num_gpu=None num_thread=None repeat_last_n=None repeat_penalty=None temperature=None stop=None tfs_z=None top_k=None top_p=None show_progress=False headers=None model_kwargs=None\n"
     ]
    }
   ],
   "execution_count": 54
  },
  {
   "cell_type": "code",
   "source": [
    "# 创建文档检索链\n",
    "\n",
    "from langchain.chains.combine_documents import create_stuff_documents_chain\n",
    "\n",
    "prompt = ChatPromptTemplate.from_template(\"\"\"根据提供的上下文回答以下问题:\n",
    "\n",
    "<context>\n",
    "{context}, \n",
    "据可靠消息知，矿大2023年国庆放10天假\n",
    "</context>\n",
    "\n",
    "Question: {input}\"\"\")\n",
    "\n",
    "document_chain = create_stuff_documents_chain(llm, prompt)"
   ],
   "metadata": {
    "collapsed": false,
    "ExecuteTime": {
     "end_time": "2024-10-13T13:51:31.609090Z",
     "start_time": "2024-10-13T13:51:31.605690Z"
    }
   },
   "id": "9179757c846cc07b",
   "outputs": [],
   "execution_count": 55
  },
  {
   "cell_type": "code",
   "source": [
    "# 从文档中检索\n",
    "\n",
    "document_chain.invoke({\n",
    "    \"input\": \"矿大2023和2024年国庆分别放多少天假\",\n",
    "    \"context\": documents\n",
    "})"
   ],
   "metadata": {
    "collapsed": false,
    "ExecuteTime": {
     "end_time": "2024-10-13T13:51:36.598982Z",
     "start_time": "2024-10-13T13:51:31.616231Z"
    }
   },
   "id": "b19028f691197e88",
   "outputs": [
    {
     "data": {
      "text/plain": [
       "'根据提供的信息：\\n\\n- 2024年国庆节放假安排为10月1日至7日共7天，9月29日（星期日）和10月12日（星期六）上班。\\n\\n关于2023年的国庆放假情况，您提到“据可靠消息知，矿大2023年国庆放10天假”，但提供的上下文中并没有直接提及2023年的具体放假安排。因此，可以初步确认的是，2024年国庆节放假7天，而2023年的国庆放假情况则为10天。\\n\\n如果有进一步的官方文件或通知能明确2023年的具体假期天数，建议参考该信息以获得准确答案。'"
      ]
     },
     "execution_count": 56,
     "metadata": {},
     "output_type": "execute_result"
    }
   ],
   "execution_count": 56
  },
  {
   "cell_type": "code",
   "source": [
    "# 使用检索器检索\n",
    "\n",
    "from langchain.chains import create_retrieval_chain\n",
    "\n",
    "retriever = vector.as_retriever()\n",
    "retrieval_chain = create_retrieval_chain(retriever, document_chain)\n",
    "response = retrieval_chain.invoke({\"input\": \"矿大2023和2024年国庆分别放多少天假?\"})\n",
    "print(response[\"answer\"])"
   ],
   "metadata": {
    "collapsed": false,
    "ExecuteTime": {
     "end_time": "2024-10-13T13:51:40.915599Z",
     "start_time": "2024-10-13T13:51:36.689770Z"
    }
   },
   "id": "2dfcd19251dbcc62",
   "outputs": [
    {
     "name": "stdout",
     "output_type": "stream",
     "text": [
      "根据提供的信息:\n",
      "\n",
      "- 对于2024年的国庆节放假安排,通知中明确指出放假时间为10月1日至7日,共7天。但同时提到9月29日(星期日)和10月12日(星期六)上班。\n",
      "\n",
      "- 关于2023年国庆假期的具体时长，信息中仅提及“据可靠消息知，矿大2023年国庆放10天假”，但是没有提供具体放假日期或进一步的官方通知作为依据。因此，对于2023年的国庆节放假安排时长为10天,但具体安排未详细说明。\n",
      "\n",
      "综上所述:\n",
      "- 2024年国庆节放假7天。\n",
      "- 2023年国庆节放假10天（根据消息）。\n"
     ]
    }
   ],
   "execution_count": 57
  }
 ],
 "metadata": {
  "kernelspec": {
   "display_name": "Python 3",
   "language": "python",
   "name": "python3"
  },
  "language_info": {
   "codemirror_mode": {
    "name": "ipython",
    "version": 2
   },
   "file_extension": ".py",
   "mimetype": "text/x-python",
   "name": "python",
   "nbconvert_exporter": "python",
   "pygments_lexer": "ipython2",
   "version": "2.7.6"
  }
 },
 "nbformat": 4,
 "nbformat_minor": 5
}
