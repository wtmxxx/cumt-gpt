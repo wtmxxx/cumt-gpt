{
 "cells": [
  {
   "cell_type": "markdown",
   "id": "0c35cb06",
   "metadata": {},
   "source": [
    "# Build a Molecular Search Engine in Minutes"
   ]
  },
  {
   "cell_type": "markdown",
   "id": "731eedf7",
   "metadata": {},
   "source": [
    "This notebook illustrates how to build a molecular search engine from scratch [Milvus](https://milvus.io/) and [Towhee](https://towhee.io/). Milvus is the most advanced open-source vector database built for AI applications and supports nearest neighbor embedding search across tens of millions of entries, and Towhee is a framework that provides ETL for unstructured data using SoTA machine learning models.\n",
    "\n",
    "We will go through molecular **similarity search** SMILES. Moreover, we managed to make the core functionality as simple as 10 lines of code with Towhee, so that you can start hacking your own molecular search engine."
   ]
  },
  {
   "cell_type": "markdown",
   "id": "4883e577",
   "metadata": {},
   "source": [
    "## Preparations"
   ]
  },
  {
   "cell_type": "markdown",
   "id": "49110b91",
   "metadata": {},
   "source": [
    "### Install Dependencies"
   ]
  },
  {
   "cell_type": "markdown",
   "id": "a3abf593",
   "metadata": {},
   "source": [
    "First we need to install dependencies such as towhee, rdkit and gradio."
   ]
  },
  {
   "cell_type": "code",
   "execution_count": 1,
   "id": "c9ba3850",
   "metadata": {},
   "outputs": [],
   "source": [
    "! python -m pip install -q towhee towhee.models rdkit-pypi gradio"
   ]
  },
  {
   "cell_type": "markdown",
   "id": "8ddacd4d",
   "metadata": {},
   "source": [
    "Please make sure that you have started a [Milvus service](https://milvus.io/docs/install_standalone-docker.md). This notebook uses [milvus 2.2.10](https://milvus.io/docs/v2.2.x/install_standalone-docker.md) and [pymilvus 2.2.11](https://milvus.io/docs/release_notes.md#2210)."
   ]
  },
  {
   "cell_type": "code",
   "execution_count": 2,
   "id": "1bb223f9",
   "metadata": {},
   "outputs": [],
   "source": [
    "! python -m pip install -q pymilvus==2.2.11"
   ]
  },
  {
   "cell_type": "markdown",
   "id": "a90db0c5",
   "metadata": {},
   "source": [
    "### Prepare the Data"
   ]
  },
  {
   "cell_type": "markdown",
   "id": "0fbd1e75",
   "metadata": {},
   "source": [
    "There is a subset of the [Pubchem dataset](https://ftp.ncbi.nlm.nih.gov/pubchem/Compound/CURRENT-Full/SDF/) (10000 SMILES) used in this demo, everyone can download on [Github](https://github.com/towhee-io/examples/releases/download/data/pubchem_10000.smi)."
   ]
  },
  {
   "cell_type": "code",
   "execution_count": 3,
   "id": "d1436a9c",
   "metadata": {},
   "outputs": [
    {
     "name": "stdout",
     "output_type": "stream",
     "text": [
      "  % Total    % Received % Xferd  Average Speed   Time    Time     Time  Current\n",
      "                                 Dload  Upload   Total   Spent    Left  Speed\n",
      "  0     0    0     0    0     0      0      0 --:--:-- --:--:-- --:--:--     0\n",
      "100  561k  100  561k    0     0   214k      0  0:00:02  0:00:02 --:--:--  391k\n"
     ]
    }
   ],
   "source": [
    "! curl -L https://github.com/towhee-io/examples/releases/download/data/pubchem_10000.smi -O"
   ]
  },
  {
   "cell_type": "markdown",
   "id": "bdd8754a",
   "metadata": {},
   "source": [
    "**pubchem_10000.smi**: a file containing SMILES and corresponding ids.\n",
    "\n",
    "Let's take a quick look:"
   ]
  },
  {
   "cell_type": "code",
   "execution_count": 4,
   "id": "d652efea",
   "metadata": {},
   "outputs": [
    {
     "data": {
      "text/html": [
       "<div>\n",
       "<style scoped>\n",
       "    .dataframe tbody tr th:only-of-type {\n",
       "        vertical-align: middle;\n",
       "    }\n",
       "\n",
       "    .dataframe tbody tr th {\n",
       "        vertical-align: top;\n",
       "    }\n",
       "\n",
       "    .dataframe thead th {\n",
       "        text-align: right;\n",
       "    }\n",
       "</style>\n",
       "<table border=\"1\" class=\"dataframe\">\n",
       "  <thead>\n",
       "    <tr style=\"text-align: right;\">\n",
       "      <th></th>\n",
       "      <th>smiles</th>\n",
       "      <th>id</th>\n",
       "    </tr>\n",
       "  </thead>\n",
       "  <tbody>\n",
       "    <tr>\n",
       "      <th>0</th>\n",
       "      <td>COc1cc(C=NNC(=O)CC2(C)OCCO2)cc(c1OCc1cccc2c1cc...</td>\n",
       "      <td>2860827</td>\n",
       "    </tr>\n",
       "    <tr>\n",
       "      <th>1</th>\n",
       "      <td>Fc1ccc(cc1)C=C1C(=O)NC(=S)N(C1=O)c1ccc(cc1Cl)Cl</td>\n",
       "      <td>2860828</td>\n",
       "    </tr>\n",
       "    <tr>\n",
       "      <th>2</th>\n",
       "      <td>O=C1NC(=C(C(N1)c1cccc(c1)Br)C(=O)Nc1ccc(cc1)Cl)C</td>\n",
       "      <td>2860829</td>\n",
       "    </tr>\n",
       "    <tr>\n",
       "      <th>3</th>\n",
       "      <td>COc1ccc(c(c1)OC)C=C1C(=O)NC(=S)N(C1=O)c1cccc(c...</td>\n",
       "      <td>2860830</td>\n",
       "    </tr>\n",
       "    <tr>\n",
       "      <th>4</th>\n",
       "      <td>Nc1ccn(n1)c1ccccc1.Cl</td>\n",
       "      <td>2860831</td>\n",
       "    </tr>\n",
       "  </tbody>\n",
       "</table>\n",
       "</div>"
      ],
      "text/plain": [
       "                                              smiles       id\n",
       "0  COc1cc(C=NNC(=O)CC2(C)OCCO2)cc(c1OCc1cccc2c1cc...  2860827\n",
       "1    Fc1ccc(cc1)C=C1C(=O)NC(=S)N(C1=O)c1ccc(cc1Cl)Cl  2860828\n",
       "2   O=C1NC(=C(C(N1)c1cccc(c1)Br)C(=O)Nc1ccc(cc1)Cl)C  2860829\n",
       "3  COc1ccc(c(c1)OC)C=C1C(=O)NC(=S)N(C1=O)c1cccc(c...  2860830\n",
       "4                              Nc1ccn(n1)c1ccccc1.Cl  2860831"
      ]
     },
     "execution_count": 4,
     "metadata": {},
     "output_type": "execute_result"
    }
   ],
   "source": [
    "import pandas as pd\n",
    "\n",
    "df = pd.read_csv('pubchem_10000.smi')\n",
    "df.head()"
   ]
  },
  {
   "cell_type": "markdown",
   "id": "19a8d741",
   "metadata": {},
   "source": [
    "To use the dataset for molecular search, let's first define the dictionary and helper function:\n",
    "- `to_images(input)`: convert the input smiles or results to towhee.Image for display."
   ]
  },
  {
   "cell_type": "code",
   "execution_count": 5,
   "id": "4d98b309",
   "metadata": {},
   "outputs": [],
   "source": [
    "from rdkit.Chem import Draw\n",
    "from rdkit import Chem\n",
    "from towhee.types.image_utils import from_pil\n",
    "\n",
    "def to_images(data):\n",
    "    imgs = []\n",
    "    for smiles in data:\n",
    "        mol = Chem.MolFromSmiles(smiles)\n",
    "        img = from_pil(Draw.MolToImage(mol))\n",
    "        imgs.append(img)\n",
    "    return imgs"
   ]
  },
  {
   "cell_type": "markdown",
   "id": "389de7ed",
   "metadata": {},
   "source": [
    "### Create Milvus Collection"
   ]
  },
  {
   "cell_type": "markdown",
   "id": "d0da865f",
   "metadata": {},
   "source": [
    "Next to create the `molecular_search` collection in Milvus. It's worth to note that the vector field of this collection is the type of \"BINARY_VECTOR\"."
   ]
  },
  {
   "cell_type": "code",
   "execution_count": 6,
   "id": "22c19982",
   "metadata": {},
   "outputs": [],
   "source": [
    "from pymilvus import connections, FieldSchema, CollectionSchema, DataType, Collection, utility\n",
    "\n",
    "MILVUS_HOST = '127.0.0.1'\n",
    "MILVUS_PORT = '19530'\n",
    "connections.connect(host=MILVUS_HOST, port=MILVUS_PORT)\n",
    "\n",
    "def create_milvus_collection(collection_name, dim):    \n",
    "    if utility.has_collection(collection_name):\n",
    "        utility.drop_collection(collection_name)\n",
    "    \n",
    "    fields = [\n",
    "    FieldSchema(name='id', dtype=DataType.INT64, descrition='ids', is_primary=True, auto_id=False),\n",
    "    FieldSchema(name='smiles', dtype=DataType.VARCHAR, descrition='SMILES', max_length=500),\n",
    "    FieldSchema(name='embedding', dtype=DataType.BINARY_VECTOR, descrition='embedding vectors', dim=dim)\n",
    "    ]\n",
    "    schema = CollectionSchema(fields=fields, description='molecular similarity search')\n",
    "    collection = Collection(name=collection_name, schema=schema)\n",
    "    \n",
    "    index_params = {\"index_type\": \"BIN_FLAT\", \"params\": {\"nlist\": 1024}, \"metric_type\": \"JACCARD\"}\n",
    "    collection.create_index(field_name=\"embedding\", index_params=index_params)\n",
    "    \n",
    "    return collection\n",
    "\n",
    "collection = create_milvus_collection('molecular_search', 2048)"
   ]
  },
  {
   "cell_type": "markdown",
   "id": "b0956ab8",
   "metadata": {},
   "source": [
    "## Molecular Search Engine"
   ]
  },
  {
   "cell_type": "markdown",
   "id": "143255bb",
   "metadata": {},
   "source": [
    "In this section, we will show how to build our molecular search engine using Milvus. The basic idea behind Molecular Search is to use Towhee to generate molecular fingerprints from SMILES and compare the queried fingerprints with the fingerprints stored in Milvus.\n",
    "\n",
    "We use Towhee, a machine learning framework that allows the creation of data processing pipelines. Towhee also provides predefined operators for implementing insert and query operations in Milvus."
   ]
  },
  {
   "cell_type": "markdown",
   "id": "6973709d",
   "metadata": {},
   "source": [
    "### Load Molecular Fingerprint into Milvus"
   ]
  },
  {
   "cell_type": "markdown",
   "id": "81e8811d",
   "metadata": {},
   "source": [
    "We first generate fingerprint from SMILES with daylight algorithm and insert the fingerprints into Milvus. Towhee provides a [method-chaining style API](https://towhee.readthedocs.io/en/main/index.html) so that users can assemble a data processing pipeline with operators."
   ]
  },
  {
   "cell_type": "code",
   "execution_count": 8,
   "id": "f814f6e3",
   "metadata": {},
   "outputs": [],
   "source": [
    "from towhee import ops, pipe\n",
    "\n",
    "insert_pipe = (pipe.input('df')\n",
    "                   .flat_map('df', ('smiles', 'id'), lambda df: df.values.tolist())\n",
    "                   .map('smiles', 'fp', ops.molecular_fingerprinting.rdkit(algorithm='daylight'))\n",
    "                   .map(('id', 'smiles', 'fp'), 'res', ops.ann_insert.milvus_client(host=MILVUS_HOST, \n",
    "                                                                           port=MILVUS_PORT,\n",
    "                                                                           collection_name='molecular_search'))\n",
    "                   .map('smiles', 'smiless', lambda x: print(x))\n",
    "                   .output('res')\n",
    ")"
   ]
  },
  {
   "cell_type": "code",
   "execution_count": 9,
   "id": "44dd76db",
   "metadata": {},
   "outputs": [],
   "source": [
    "%%time\n",
    "insert_pipe(df)"
   ]
  },
  {
   "cell_type": "code",
   "execution_count": 11,
   "id": "1adbb2e1",
   "metadata": {},
   "outputs": [
    {
     "name": "stdout",
     "output_type": "stream",
     "text": [
      "Total number of inserted data is 10000.\n"
     ]
    }
   ],
   "source": [
    "collection.flush()\n",
    "print('Total number of inserted data is {}.'.format(collection.num_entities))"
   ]
  },
  {
   "cell_type": "markdown",
   "id": "8e771112",
   "metadata": {},
   "source": [
    "#### Explanation of Data Processing Pipeline\n",
    "\n",
    "Here is detailed explanation for each line of the code:\n",
    "\n",
    "`.flat_map('df', ('smiles', 'id'), lambda df: df.values.tolist())`: read tabular data from the df and flatten(smiles and id columns);\n",
    "\n",
    "`.map('smiles', 'fp', ops.molecular_fingerprinting.rdkit(algorithm='daylight'))`: use the daylight algorithm to generate fingerprint with the [rdkit operator](https://towhee.io/molecular-fingerprinting/rdkit) in towhee hub;\n",
    "\n",
    "`.map(('id', 'fp'), 'res', ops.ann_insert.milvus_client(host='127.0.0.1', port='19530', collection_name='molecular_search'))`: insert molcular fingerprints in to Milvus;\n",
    "\n",
    "Then we decompose the pipeline into stages to get a more intuitive understanding of what's going on\n",
    "\n",
    "- read df data, get a list with two columns and flatten it:"
   ]
  },
  {
   "cell_type": "code",
   "execution_count": 12,
   "id": "c835ea92",
   "metadata": {},
   "outputs": [
    {
     "data": {
      "text/html": [
       "<table style=\"border-collapse: collapse;\"><tr><th style=\"text-align: center; font-size: 130%; border: none;\">smiles</th> <th style=\"text-align: center; font-size: 130%; border: none;\">id</th></tr> <tr><td style=\"text-align: center; vertical-align: center; border-right: solid 1px #D3D3D3; border-left: solid 1px #D3D3D3; \">COc1cc(C=NNC(=O)CC2(C)OCCO2)cc(c1OCc1cccc2c1cccc2)Br</td> <td style=\"text-align: center; vertical-align: center; border-right: solid 1px #D3D3D3; border-left: solid 1px #D3D3D3; \">2860827</td></tr> <tr><td style=\"text-align: center; vertical-align: center; border-right: solid 1px #D3D3D3; border-left: solid 1px #D3D3D3; \">Fc1ccc(cc1)C=C1C(=O)NC(=S)N(C1=O)c1ccc(cc1Cl)Cl</td> <td style=\"text-align: center; vertical-align: center; border-right: solid 1px #D3D3D3; border-left: solid 1px #D3D3D3; \">2860828</td></tr> <tr><td style=\"text-align: center; vertical-align: center; border-right: solid 1px #D3D3D3; border-left: solid 1px #D3D3D3; \">O=C1NC(=C(C(N1)c1cccc(c1)Br)C(=O)Nc1ccc(cc1)Cl)C</td> <td style=\"text-align: center; vertical-align: center; border-right: solid 1px #D3D3D3; border-left: solid 1px #D3D3D3; \">2860829</td></tr></table>"
      ],
      "text/plain": [
       "<IPython.core.display.HTML object>"
      ]
     },
     "metadata": {},
     "output_type": "display_data"
    }
   ],
   "source": [
    "from towhee import DataCollection\n",
    "\n",
    "p1 = (pipe.input('df')\n",
    "          .flat_map('df', ('smiles', 'id'), lambda df: df.values.tolist())\n",
    "          .output('smiles', 'id')\n",
    "     )\n",
    "res = p1(df.head(3))\n",
    "DataCollection(res).show()"
   ]
  },
  {
   "cell_type": "markdown",
   "id": "011ebd44",
   "metadata": {},
   "source": [
    "- generate fingerprint with `fp` column"
   ]
  },
  {
   "cell_type": "code",
   "execution_count": 13,
   "id": "148d08e7",
   "metadata": {},
   "outputs": [
    {
     "data": {
      "text/html": [
       "<table style=\"border-collapse: collapse;\"><tr><th style=\"text-align: center; font-size: 130%; border: none;\">smiles</th> <th style=\"text-align: center; font-size: 130%; border: none;\">id</th> <th style=\"text-align: center; font-size: 130%; border: none;\">fp</th></tr> <tr><td style=\"text-align: center; vertical-align: center; border-right: solid 1px #D3D3D3; border-left: solid 1px #D3D3D3; \">COc1cc(C=NNC(=O)CC2(C)OCCO2)cc(c1OCc1cccc2c1cccc2)Br</td> <td style=\"text-align: center; vertical-align: center; border-right: solid 1px #D3D3D3; border-left: solid 1px #D3D3D3; \">2860827</td> <td style=\"text-align: center; vertical-align: center; border-right: solid 1px #D3D3D3; border-left: solid 1px #D3D3D3; \">b'\\xa1\\x00\\x88#\\x067\\xb0\\xa9S\\xa2\\x8c8\\x8b\\xc25\\xe3\\x01\\x98b@G\\x8dQ\\x85\\xa6(\\xb1B  \\x16\\xa0`\\x00dFL\\x00\\x7f\\x93\\x02\\x8e\\x0b\\xe4\\...</td></tr> <tr><td style=\"text-align: center; vertical-align: center; border-right: solid 1px #D3D3D3; border-left: solid 1px #D3D3D3; \">Fc1ccc(cc1)C=C1C(=O)NC(=S)N(C1=O)c1ccc(cc1Cl)Cl</td> <td style=\"text-align: center; vertical-align: center; border-right: solid 1px #D3D3D3; border-left: solid 1px #D3D3D3; \">2860828</td> <td style=\"text-align: center; vertical-align: center; border-right: solid 1px #D3D3D3; border-left: solid 1px #D3D3D3; \">b\"\\xe64\\xf0\\t\\xd2\\xfbT\\x9eEt(,\\xbd\\x19\\xd3\\x82b\\xe3\\xe8%B\\xedx\\xd0\\xed\\xfa\\x8f\\xf6\\x95hM\\xb4\\xc1\\x14Q\\\\\\\\\\xe3\\x10\\x0f\\x89DW\\x94\\...</td></tr> <tr><td style=\"text-align: center; vertical-align: center; border-right: solid 1px #D3D3D3; border-left: solid 1px #D3D3D3; \">O=C1NC(=C(C(N1)c1cccc(c1)Br)C(=O)Nc1ccc(cc1)Cl)C</td> <td style=\"text-align: center; vertical-align: center; border-right: solid 1px #D3D3D3; border-left: solid 1px #D3D3D3; \">2860829</td> <td style=\"text-align: center; vertical-align: center; border-right: solid 1px #D3D3D3; border-left: solid 1px #D3D3D3; \">b'6O\\x1ci@\\xdan\\x85\\xd5\\xdb\\x88\\x19\\xcd:\\xd9\\x1ek\\x98\\xe1\\xe4_\\xafxc6\\xf2r\\xfb\\x86\\x8c\\xc3\\xfeg\\xd0\\xbb\\x08\\xdeW\\xf0\\xdf\\x15D\\x0...</td></tr></table>"
      ],
      "text/plain": [
       "<IPython.core.display.HTML object>"
      ]
     },
     "metadata": {},
     "output_type": "display_data"
    }
   ],
   "source": [
    "p1 = (pipe.input('df')\n",
    "          .flat_map('df', ('smiles', 'id'), lambda df: df.values.tolist())\n",
    "          .map('smiles', 'fp', ops.molecular_fingerprinting.rdkit(algorithm='daylight'))\n",
    "          .output('smiles', 'id', 'fp')\n",
    "     )\n",
    "res = p1(df.head(3))\n",
    "DataCollection(res).show()"
   ]
  },
  {
   "cell_type": "markdown",
   "id": "a387639d",
   "metadata": {},
   "source": [
    "### Query Molecular from Milvus with Towhee"
   ]
  },
  {
   "cell_type": "markdown",
   "id": "bec378cd",
   "metadata": {},
   "source": [
    "Now that fingerprint for candidate SMILES have been inserted into Milvus, we can query across it. Again, we use Towhee to load the input SMILES, compute a fingerprint, and use it as a query in Milvus. "
   ]
  },
  {
   "cell_type": "markdown",
   "id": "7f9bdc34",
   "metadata": {},
   "source": [
    "#### similarity search"
   ]
  },
  {
   "cell_type": "code",
   "execution_count": 14,
   "id": "56b38d6c",
   "metadata": {},
   "outputs": [],
   "source": [
    "search_pipe = (pipe.input('query_smiles')\n",
    "                   .map('query_smiles', 'fp', ops.molecular_fingerprinting.rdkit(algorithm='daylight'))\n",
    "                   .flat_map('fp', ('id', 'score', 'similar_smiles'), ops.ann_search.milvus_client(host=MILVUS_HOST, \n",
    "                                                                  port=MILVUS_PORT,\n",
    "                                                                  collection_name='molecular_search',\n",
    "                                                                  param={\"metric_type\": \"JACCARD\", \"nprobe\": 10},\n",
    "                                                                  output_fields=['smiles']))\n",
    "                   .output('query_smiles', 'similar_smiles')\n",
    ")"
   ]
  },
  {
   "cell_type": "code",
   "execution_count": 15,
   "id": "085f9d04",
   "metadata": {},
   "outputs": [
    {
     "data": {
      "text/html": [
       "<table style=\"border-collapse: collapse;\"><tr><th style=\"text-align: center; font-size: 130%; border: none;\">query_smiles</th> <th style=\"text-align: center; font-size: 130%; border: none;\">similar_smiles</th></tr> <tr><td style=\"text-align: center; vertical-align: center; border-right: solid 1px #D3D3D3; border-left: solid 1px #D3D3D3; \">CN1C=NC2=C1C(=O)N(C(=O)N2C)C</td> <td style=\"text-align: center; vertical-align: center; border-right: solid 1px #D3D3D3; border-left: solid 1px #D3D3D3; \">Cn1cnc2c1c(=O)n(C)c(=O)n2C</td></tr> <tr><td style=\"text-align: center; vertical-align: center; border-right: solid 1px #D3D3D3; border-left: solid 1px #D3D3D3; \">CN1C=NC2=C1C(=O)N(C(=O)N2C)C</td> <td style=\"text-align: center; vertical-align: center; border-right: solid 1px #D3D3D3; border-left: solid 1px #D3D3D3; \">Cn1c2nc[nH]c2c(=O)n(C)c1=O</td></tr> <tr><td style=\"text-align: center; vertical-align: center; border-right: solid 1px #D3D3D3; border-left: solid 1px #D3D3D3; \">CN1C=NC2=C1C(=O)N(C(=O)N2C)C</td> <td style=\"text-align: center; vertical-align: center; border-right: solid 1px #D3D3D3; border-left: solid 1px #D3D3D3; \">Cn1cnc2c1c(=O)[nH]c(=O)n2C</td></tr> <tr><td style=\"text-align: center; vertical-align: center; border-right: solid 1px #D3D3D3; border-left: solid 1px #D3D3D3; \">CN1C=NC2=C1C(=O)N(C(=O)N2C)C</td> <td style=\"text-align: center; vertical-align: center; border-right: solid 1px #D3D3D3; border-left: solid 1px #D3D3D3; \">Cn1cnc2[nH]c(=O)n(C)c(=O)c21</td></tr> <tr><td style=\"text-align: center; vertical-align: center; border-right: solid 1px #D3D3D3; border-left: solid 1px #D3D3D3; \">CN1C=NC2=C1C(=O)N(C(=O)N2C)C</td> <td style=\"text-align: center; vertical-align: center; border-right: solid 1px #D3D3D3; border-left: solid 1px #D3D3D3; \">Cn1c2nc[nH]c2c(=O)[nH]c1=O</td></tr></table>"
      ],
      "text/plain": [
       "<IPython.core.display.HTML object>"
      ]
     },
     "metadata": {},
     "output_type": "display_data"
    }
   ],
   "source": [
    "res = search_pipe('CN1C=NC2=C1C(=O)N(C(=O)N2C)C')\n",
    "DataCollection(res).show()"
   ]
  },
  {
   "cell_type": "markdown",
   "id": "e64cdd4a",
   "metadata": {},
   "source": [
    "If you want to show the molecular structure with images, you can use the `to_images` function."
   ]
  },
  {
   "cell_type": "code",
   "execution_count": 16,
   "id": "d1a41afd",
   "metadata": {},
   "outputs": [],
   "source": [
    "search_pipe1 = (pipe.input('query_smiles')\n",
    "                   .map('query_smiles', 'fp', ops.molecular_fingerprinting.rdkit(algorithm='daylight'))\n",
    "                   .flat_map('fp', ('id', 'score', 'similar_smiles'), ops.ann_search.milvus_client(host=MILVUS_HOST, \n",
    "                                                                  port=MILVUS_PORT,\n",
    "                                                                  collection_name='molecular_search',\n",
    "                                                                  limit=6,\n",
    "                                                                  param={\"metric_type\": \"JACCARD\", \"nprobe\": 10},\n",
    "                                                                  output_fields=['smiles']))\n",
    "                   .window_all('query_smiles', 'query_smiles', lambda x: to_images(x[:1]))\n",
    "                   .window_all('similar_smiles', 'similar_smiles', to_images)\n",
    "                   .output('query_smiles', 'similar_smiles')\n",
    ")"
   ]
  },
  {
   "cell_type": "code",
   "execution_count": 17,
   "id": "f59fb5b7",
   "metadata": {},
   "outputs": [
    {
     "data": {
      "text/html": [
       "<table style=\"border-collapse: collapse;\"><tr><th style=\"text-align: center; font-size: 130%; border: none;\">query_smiles</th> <th style=\"text-align: center; font-size: 130%; border: none;\">similar_smiles</th></tr> <tr><td style=\"text-align: center; vertical-align: top; border-right: solid 1px #D3D3D3; border-left: solid 1px #D3D3D3; \"><img src=\"data:image/png;base64,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\" 128 = \"128px\" 128 = \"128px\" style = \"float:left; padding:2px\"></td> <td style=\"text-align: center; vertical-align: top; border-right: solid 1px #D3D3D3; border-left: solid 1px #D3D3D3; \"><img src=\"data:image/png;base64,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\" 128 = \"128px\" 128 = \"128px\" style = \"float:left; padding:2px\"> <img src=\"data:image/png;base64,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\" 128 = \"128px\" 128 = \"128px\" style = \"float:left; padding:2px\"> <img src=\"data:image/png;base64,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\" 128 = \"128px\" 128 = \"128px\" style = \"float:left; padding:2px\"> <img src=\"data:image/png;base64,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\" 128 = \"128px\" 128 = \"128px\" style = \"float:left; padding:2px\"> <img src=\"data:image/png;base64,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\" 128 = \"128px\" 128 = \"128px\" style = \"float:left; padding:2px\"> <img src=\"data:image/png;base64,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\" 128 = \"128px\" 128 = \"128px\" style = \"float:left; padding:2px\"></td></tr></table>"
      ],
      "text/plain": [
       "<IPython.core.display.HTML object>"
      ]
     },
     "metadata": {},
     "output_type": "display_data"
    }
   ],
   "source": [
    "res = search_pipe1('Cn1ccc(=O)nc1')\n",
    "DataCollection(res).show()"
   ]
  },
  {
   "cell_type": "code",
   "execution_count": null,
   "id": "42c37993",
   "metadata": {},
   "outputs": [],
   "source": []
  }
 ],
 "metadata": {
  "kernelspec": {
   "display_name": "Python 3 (ipykernel)",
   "language": "python",
   "name": "python3"
  },
  "language_info": {
   "codemirror_mode": {
    "name": "ipython",
    "version": 3
   },
   "file_extension": ".py",
   "mimetype": "text/x-python",
   "name": "python",
   "nbconvert_exporter": "python",
   "pygments_lexer": "ipython3",
   "version": "3.8.12"
  }
 },
 "nbformat": 4,
 "nbformat_minor": 5
}
