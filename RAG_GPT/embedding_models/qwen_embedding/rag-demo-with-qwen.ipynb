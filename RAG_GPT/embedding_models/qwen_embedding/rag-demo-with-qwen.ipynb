{
 "cells": [
  {
   "cell_type": "code",
   "id": "initial_id",
   "metadata": {
    "collapsed": true,
    "ExecuteTime": {
     "end_time": "2024-10-18T15:58:54.296170Z",
     "start_time": "2024-10-18T15:58:40.071841Z"
    }
   },
   "source": [
    "from attr.validators import instance_of\n",
    "#创建集合单元\n",
    "from sentence_transformers import SentenceTransformer\n",
    "from pymilvus import FieldSchema, CollectionSchema, DataType, MilvusClient\n",
    "\n",
    "client = MilvusClient(uri=\"http://192.168.200.130:19530\")\n",
    "\n",
    "def create_collection():\n",
    "    # 定义字段 schemas\n",
    "    id_field = FieldSchema(name=\"id\", dtype=DataType.INT64, auto_id=True, is_primary=True)\n",
    "    url_field = FieldSchema(name=\"url\", dtype=DataType.VARCHAR, max_length=65535)\n",
    "    content_field = FieldSchema(name=\"content\", dtype=DataType.VARCHAR, max_length=65535)\n",
    "    vector_field = FieldSchema(name=\"content_vector\", dtype=DataType.FLOAT_VECTOR, dim=3584)\n",
    "    publish_time_field = FieldSchema(name=\"publish_time\", dtype=DataType.INT64)\n",
    "\n",
    "    # 创建 Collection schema\n",
    "    schema = CollectionSchema(\n",
    "        fields=[id_field, url_field, content_field, vector_field, publish_time_field],\n",
    "        description=\"CUMT_GPT的Qwen数据集\"\n",
    "    )\n",
    "\n",
    "    # 创建 Collection\n",
    "    collection_name = \"cumt_gpt_qwen\"\n",
    "    if client.has_collection(collection_name):\n",
    "        client.drop_collection(collection_name)\n",
    "\n",
    "    client.create_collection(collection_name=collection_name, schema=schema)\n",
    "\n",
    "    # 为 content_vector 创建索引\n",
    "    # index_params = client.prepare_index_params()\n",
    "    # index_params.add_index(\n",
    "    #     field_name=\"content_vector\",\n",
    "    #     index_type=\"IVF_FLAT\",\n",
    "    #     metric_type=\"COSINE\",\n",
    "    #     params={\"nlist\": 128}\n",
    "    # )\n",
    "    \n",
    "    # HNSW\n",
    "    index_params = client.prepare_index_params()\n",
    "    index_params.add_index(\n",
    "        field_name=\"content_vector\",\n",
    "        index_type=\"HNSW\",\n",
    "        metric_type=\"COSINE\",\n",
    "        params={\"M\": 64, \"efConstruction\": 250}\n",
    "    )\n",
    "\n",
    "    client.create_index(\n",
    "        collection_name=collection_name,\n",
    "        index_params=index_params,\n",
    "        sync=False)\n",
    "\n",
    "\n",
    "create_collection()\n",
    "client.list_indexes(collection_name=\"cumt_gpt_qwen\")"
   ],
   "outputs": [
    {
     "name": "stderr",
     "output_type": "stream",
     "text": [
      "E:\\Python\\Lib\\site-packages\\sentence_transformers\\cross_encoder\\CrossEncoder.py:13: TqdmWarning: IProgress not found. Please update jupyter and ipywidgets. See https://ipywidgets.readthedocs.io/en/stable/user_install.html\n",
      "  from tqdm.autonotebook import tqdm, trange\n"
     ]
    },
    {
     "data": {
      "text/plain": [
       "['content_vector']"
      ]
     },
     "execution_count": 1,
     "metadata": {},
     "output_type": "execute_result"
    }
   ],
   "execution_count": 1
  },
  {
   "metadata": {
    "ExecuteTime": {
     "end_time": "2024-10-18T16:05:37.262019Z",
     "start_time": "2024-10-18T16:05:32.454481Z"
    }
   },
   "cell_type": "code",
   "source": [
    "# 插入数据单元\n",
    "import json\n",
    "from datetime import datetime\n",
    "from pymilvus import FieldSchema, CollectionSchema, DataType, MilvusClient\n",
    "from langchain_community.embeddings import OllamaEmbeddings\n",
    "from sentence_transformers import SentenceTransformer\n",
    "from sklearn.preprocessing import normalize\n",
    "# from sonyflake import SonyFlake\n",
    "\n",
    "client = MilvusClient(uri=\"http://192.168.200.130:19530\")\n",
    "\n",
    "def emb_text(text):\n",
    "    # embedding_model = SentenceTransformer('maidalun1020/bce-embedding-base_v1')\n",
    "    # embedding_vectors = embedding_model.encode(text, batch_size=1024)\n",
    "    if isinstance(text, str):\n",
    "        text = [text]\n",
    "    \n",
    "    embedding_model = OllamaEmbeddings(model=\"qwen2.5:7b\")\n",
    "    embedding_vectors = []\n",
    "    \n",
    "    for text_i in text:\n",
    "        embedding_vectors.append(embedding_model.embed_query(text_i))\n",
    "\n",
    "    # embedding_vectors = normalize(embedding_vectors, norm='l2')\n",
    "    return embedding_vectors\n",
    "\n",
    "# 文档列表\n",
    "# docs = [\n",
    "#     \"Artificial intelligence was founded as an academic discipline in 1956.\",\n",
    "#     \"Alan Turing was the first person to conduct substantial research in AI.\",\n",
    "#     \"Born in Maida Vale, London, Turing was raised in southern England.\",\n",
    "# ]\n",
    "# doc = \"矿小助是一款由FlyingStudio（中国矿业大学翔工作室）开发维护的校园软件。提供课表、考试、成绩、校车校历、图书馆藏、校卡余额、宿舍电量等查询功能；同时具有课表导入日历、加权成绩计算、校园网自动登录、个性化主题背景等实用功能。\"\n",
    "\n",
    "contents = []\n",
    "\n",
    "# 打开 JSON 文件\n",
    "# filename = '原始数据/articles.json'\n",
    "# filename = ('原始数据/kxz.json')\n",
    "# filename = '原始数据/news.json'\n",
    "filename = '原始数据/矿大新闻网.json'\n",
    "with open(filename, 'r', encoding='utf-8') as f:\n",
    "    python_data = json.load(f)\n",
    "    for data in python_data['data']:\n",
    "        contents.append(data.get(\"content\"))\n",
    "\n",
    "vectors = emb_text(contents)\n",
    "\n",
    "# 要插入的数据\n",
    "datas = []\n",
    "i = 0\n",
    "for data in python_data['data']:\n",
    "    # 创建一个 SonyFlake 实例\n",
    "    # flake = SonyFlake()\n",
    "\n",
    "    # 生成唯一ID\n",
    "    # sonyflake_id = flake.next_id()\n",
    "    \n",
    "    # 使用 strptime 将字符串解析为日期对象\n",
    "    date_obj = datetime.strptime(data.get(\"date\"), \"%Y-%m-%d\")\n",
    "    \n",
    "    # 使用 strftime 格式化为所需的格式，并将其转换为整数\n",
    "    date_int = int(date_obj.strftime(\"%Y%m%d\"))\n",
    "\n",
    "    datas.append({\n",
    "            # \"id\": sonyflake_id,\n",
    "            \"url\": data.get(\"url\"),\n",
    "            \"content\": data.get(\"content\"),\n",
    "            \"content_vector\": vectors[i],\n",
    "            \"publish_time\": date_int\n",
    "        })\n",
    "    i += 1\n",
    "\n",
    "# 打印每个向量的维度和生成的嵌入\n",
    "print(\"向量数量: \", len(vectors))\n",
    "print(\"向量维度: \", len(vectors[0]))\n",
    "# print(contents)\n",
    "# print(\"生成的向量:\", vectors)\n",
    "\n",
    "# 插入数据\n",
    "res = client.insert(collection_name=\"cumt_gpt_qwen\", data=datas)\n",
    "print(res)\n"
   ],
   "id": "1b157dbc4b0e3500",
   "outputs": [
    {
     "name": "stdout",
     "output_type": "stream",
     "text": [
      "向量数量:  14\n",
      "向量维度:  3584\n",
      "{'insert_count': 14, 'ids': [453316957169519715, 453316957169519716, 453316957169519717, 453316957169519718, 453316957169519719, 453316957169519720, 453316957169519721, 453316957169519722, 453316957169519723, 453316957169519724, 453316957169519725, 453316957169519726, 453316957169519727, 453316957169519728]}\n"
     ]
    }
   ],
   "execution_count": 8
  },
  {
   "metadata": {
    "ExecuteTime": {
     "end_time": "2024-10-21T11:16:16.869273Z",
     "start_time": "2024-10-21T11:16:03.117863Z"
    }
   },
   "cell_type": "code",
   "source": [
    "# 测试向量搜索单元\n",
    "from langchain_community.embeddings import OllamaEmbeddings\n",
    "from sentence_transformers import SentenceTransformer\n",
    "from pymilvus import FieldSchema, CollectionSchema, DataType, MilvusClient\n",
    "from sklearn.preprocessing import normalize\n",
    "\n",
    "client = MilvusClient(uri=\"http://192.168.200.130:19530\")\n",
    "\n",
    "def emb_text(text):\n",
    "    # embedding_model = SentenceTransformer('maidalun1020/bce-embedding-base_v1')\n",
    "    # embedding_vectors = embedding_model.encode(text, batch_size=1024)\n",
    "    if isinstance(text, str):\n",
    "        text = [text]\n",
    "    \n",
    "    embedding_model = OllamaEmbeddings(model=\"qwen2.5:7b\")\n",
    "    embedding_vectors = []\n",
    "    \n",
    "    for text_i in text:\n",
    "        embedding_vectors.append(embedding_model.embed_query(text_i))\n",
    "    \n",
    "    # embedding_vectors = normalize(embedding_vectors, norm='l2')\n",
    "    return embedding_vectors\n",
    "\n",
    "doc = \"孙杨什么时候来学校\"\n",
    "\n",
    "doc_vector = emb_text(doc)\n",
    "\n",
    "search_params = {\n",
    "    \"metric_type\": \"COSINE\",\n",
    "    \"params\": {}\n",
    "}\n",
    "\n",
    "# IVF_FLAT\n",
    "# res = client.search(\n",
    "#     collection_name=\"cumt_gpt_qwen\",\n",
    "#     data=doc_vector,\n",
    "#     limit=10,\n",
    "#     output_fields=[\"id\", \"url\", \"content\", \"publish_time\"],\n",
    "#     search_params=search_params\n",
    "# )\n",
    "\n",
    "# HNSW\n",
    "res = client.search(\n",
    "  collection_name=\"cumt_gpt_qwen\", # Collection name\n",
    "  data=doc_vector, # Replace with your query vector\n",
    "  search_params={\n",
    "    \"metric_type\": \"COSINE\",\n",
    "    \"params\": {\"ef\":150, \"radius\":0}, # Search parameters\n",
    "  }, # Search parameters\n",
    "  limit=10, # Max. number of search results to return\n",
    "  output_fields=[\"id\",\"url\",\"content\",\"publish_time\"], # Fields to return in the search results\n",
    "  consistency_level=\"Bounded\"\n",
    ")\n",
    "\n",
    "\n",
    "print(res)"
   ],
   "id": "92d5192b3c917466",
   "outputs": [
    {
     "name": "stderr",
     "output_type": "stream",
     "text": [
      "E:\\Python\\Lib\\site-packages\\sentence_transformers\\cross_encoder\\CrossEncoder.py:13: TqdmWarning: IProgress not found. Please update jupyter and ipywidgets. See https://ipywidgets.readthedocs.io/en/stable/user_install.html\n",
      "  from tqdm.autonotebook import tqdm, trange\n"
     ]
    },
    {
     "name": "stdout",
     "output_type": "stream",
     "text": [
      "data: [\"[{'id': 453316957169518566, 'distance': 0.6681646108627319, 'entity': {'id': 453316957169518566, 'url': 'https://youth.cumt.edu.cn/info/1010/1327.htm', 'content': '蓄力梦想 放眼冬奥——中国矿业大学圆梦冬奥暑期调研团举行出征仪式\\\\n作者：\\\\n7月9日上午，中国矿业大学圆梦冬奥调研团在镜湖旁正式举行出征仪式。材料学院团委书记弓海军和实践团的全体成员共同参与了出征仪式。\\\\n在出征仪式上，来自我省的优秀学子本次团队的队长李爽简单介绍了此次暑期调研的行程规划、任务分配等注意事项。随后全体队员积极讨论了调研过程中可能出现的问题，并商讨出了应对措施。之后弓海军老师做了总结讲话，并表达了自己对调研团殷切祝愿，希望调研团能做出创新，做出精彩。最后，全体成员在镜湖旁合影留念。\\\\n大学生冬奥会暑期调研团通过此次调研和宣传活动，旨在为提升冬奥会的筹备水平，进一步扩大冰雪项目的认知度和影响力做出当代大学生应有的贡献。相信这些斗志昂扬的实践团战士们经过这次出征仪式的洗礼后，会信更加心百倍的踏上征途，取得最后的圆满成功。\\\\n冬季运动盛会走出东北，让更多民众关注、了解和支持冬季项目，气氛火爆的十三冬赛场，已经让人们有理由相信冬季项目能在新疆扎根。对于冬奥会而言，冬运会“其实就是起到了一个助推器和播种机的作用”，北京冬奥申委副秘书长赵英刚说，“通过冬运会使奥运精神得到更好的传播和普及，让冬奥理念深入人心，让奥运精神发扬光大，这是这次冬运会释放出的积极信号。”\\\\n\\\\n实践团在镜湖旁举行出征仪式\\\\n\\\\n实践团队指导老师\\\\n\\\\n实践团成员合影', 'publish_time': 20160715}}, {'id': 453316957169518514, 'distance': 0.667944610118866, 'entity': {'id': 453316957169518514, 'url': 'https://youth.cumt.edu.cn/info/1010/1268.htm', 'content': '中国矿业大学团委领导慰问苏北计划志愿者\\\\n作者：司鲸\\\\n\\\\n1月6日上午，中国矿业大学团委副书记谢发国，志工部老师肖志果、团委学生副书记司鲸迎着新年的到来，为我校苏北计划志愿者送去来自母校的温暖。\\\\n谢发国副书记一行首先来到管理学院黄彭和文法学院邵泽润服务的徐州团市委。交谈过程中谢书记对我校志愿者的工作，学习，生活等方面情况进行了详细的询问，为志愿者送上新年慰问品，同时也对志愿者表达了来自学校的关心和慰问。现团市委宣传部办公室主任同时也是我校管理学院03级学生吴腾，在与谢书记深入交谈中，表达了对母校多年培养的感激之情，她说道“虽然是已经毕业了的学生，但是能够在新年之际感受到团委带来的母校关怀，真的是非常温暖贴心。”在与邵泽润服务的团市委权益部部长谭超英的交流中，他对我校苏北计划志愿者的能力以及工作态度表示了高度肯定，同时也表示了希望我校能够持续为团市委输送优秀苏北计划志愿者，不断为团的组织注入新鲜血液的愿望。\\\\n随后一行人来到三位志愿者中唯一的一名女志愿者—汪晓彤服务的徐州市守望家园生态文明建设基金会。在与基金会社工部部长任务的交谈中，任部长提到：“咱们矿大的小汪基本上撑起来我们的微信号运营，能力很强，矿大培养出来的学生真的很优秀。”慰问结束后，志愿者汪晓彤非常感动并对谢发国书记说道：“谢谢学校和团委能挂念着我们苏北计划志愿者，这让我们都非常感动，也同时让我们更有信心好好工作，为学校争光！”\\\\n据悉，近三年来，我校已向徐州团市委、连云港市连云区科学技术协会、徐州市守望家园生态文明建设基金会、江苏灌云县扶贫办等单位输送20余名苏北计划志愿者，在校团委和志愿者的共同努力下，连续多年获得苏北计划优秀组织奖等荣誉称号。\\\\n\\\\n前往徐州团市委慰问\\\\n\\\\n前往徐州团市委慰问\\\\n\\\\n谢发国副书记为志愿者送上新年慰问品\\\\n\\\\n前往徐州市守望家园生态文明建设基金会慰问', 'publish_time': 20170106}}, {'id': 453316957169518539, 'distance': 0.6674533486366272, 'entity': {'id': 453316957169518539, 'url': 'https://youth.cumt.edu.cn/info/1010/1298.htm', 'content': '中国矿业大学在第四届“东方杯” 全国大学生勘探地球物理大赛中取得佳绩\\\\n作者：\\\\n8月22日至28日，第四届“东方杯”全国大学生勘探地球物理大赛决赛在中国石油大学（北京）成功举行。我校第一次参加比赛获得佳绩。\\\\n在资源学院领导及校团委的大力支持下，我们组织了由胡明顺老师指导的参赛队伍，积极备战。比赛从3月初开始报名，经过培训、初赛和决赛等环节，全程赛事历时6个月。第四届“东方杯”全国大学生勘探地球物理大赛吸引了包括北京大学、中国科学技术大学、同济大学、吉林大学、中国地质大学（北京）、中国石油大学（北京），中国矿业大学、台湾中央大学，中国科学院地质与地球物理研究所等17所高等院所参加，共328支队伍报名参赛，30支队伍进入决赛。\\\\n我校组织了由胡明顺老师指导的15个队伍参加比赛，经过培训和初赛后，最后张敏和魏名地同学组成的团队进入决赛环节，获得第四届“东方杯”全国大学生勘探地球物理大赛二等奖一项、三等奖一项的佳绩。\\\\n“东方杯”全国大学生勘探地球物理大赛是由国际勘探地球物理学家学会（SEG）、中国石油学会石油物探专业委员会、东方地球物理公司和中国石油大学(北京)共同主办，旨在进一步提高学生的创新能力、工程实践能力和开展国际交流的能力，满足资源勘探对创新型、应用型、国际化人才的需求，面向全国高校和科研院所的国家级大学生赛事，内容主要包括现场地震资料处理、答辩和笔试三个环节。\\\\n\\\\n\\\\n中国矿业大学参加决赛队员\\\\n\\\\n中国矿业大学获奖队员和指导老师', 'publish_time': 20160905}}, {'id': 453316957169518817, 'distance': 0.662124752998352, 'entity': {'id': 453316957169518817, 'url': 'https://youth.cumt.edu.cn/info/1010/1596.htm', 'content': '矿业学院心灵双约支教团受到石龙乡亲热烈欢迎\\\\n作者：校团委\\\\n7月22日是我校矿业学院心灵双约支教团第一支教分队来到四川省凉山彝族自治州石龙乡中心小学支教的第7天。经过前期紧张的准备工作，以及发现不足后精心地调整，支教活动已经逐渐步入了正轨。\\\\n队员们按照排好的课表有序进行着教学活动，并在课余时间与同学们逐一进行沟通，了解家庭的基本情况并确定家访对象。家访过程中，支教队员与家长就学生的学习生活等方面进行了详细的交流，并建议家长一定要积极支持和鼓励孩子们上学。因为恰好到了晚饭时间，学生想要留队员吃饭就紧紧抱住支教队员梁芝鹏的腿不愿意放开，队员们遵守团规委婉而坚决地拒绝了学生家长的盛情邀请，最终在孩子不舍的眼光下向下一家进发。家访结束回到学校后，那些想要留队员们吃饭的孩子将晚饭和新鲜的水果蔬菜送到了学校。几经追问才知，家长们为了感激支教队员无偿的支教活动，让孩子无论如何也要把食物送到队员手中，队员们感动的接受了乡亲们的馈赠。\\\\n在支教分队来到石龙的这几天中，有孩子们提着大袋的水果敲打着校门，也有老爷爷老奶奶背着竹篓送来自家的菜，还有在菜场上买菜时卖家的执意不收钱等感恩的行为都让队员们深受感动。队员们从头至尾听到的就是这么一句简单的话“感谢老师们能来”，这也是队员们听到的最为感动的一句话。在乡亲们的支持和热情之下，心灵双约支教团第一分队的全体成员必将以更饱满的热情来回应孩子们的期待以及乡亲们的支持。\\\\n\\\\n孩子们给实践队员们送食物', 'publish_time': 20140811}}, {'id': 453316957169518998, 'distance': 0.6618412733078003, 'entity': {'id': 453316957169518998, 'url': 'https://youth.cumt.edu.cn/info/1010/1772.htm', 'content': '第十五届研究生支教团培训系列活动之一——前往江苏师范大学学习教育学相关课程\\\\n作者：李萌\\\\n2013年3月26日早8:30，第十五届支教团成员集体驱车前往江苏师范大学进行教育学相关课程培训，本次培训属于研究生支教团培训系列活动之一。\\\\n从上午9:30到12:00，支教团成员同师大的同学一起听了该校何老师的教育学课程。虽然是旁听生，但是大家的学习劲头丝毫不逊于师大的同学，并坐在教室的第一排；虽然没有课本，但大家都认真地做笔记，课间也积极向老师请教重点难点。在本次课程结束的时候，何老师对支教团成员予以肯定和鼓励：“虽然你们是旁听生，但是你们学习的劲儿比本校的同学还足，到支教地一定会成为一名好教师的。”虽然只是短短的一句话，但支教团成员内心却感到了莫大的满足和动力。由于当天天气较冷且途中需要转车，但所有的成员并无怨言，支教团团长赵斌鼓励大家：“天冷算什么，只要大家的内心是火热的；来回转车又算什么呢，只要能为那些需要帮助的孩子节省出哪怕一支笔的钱。”正是秉持着这样的信念，大家坚持参加完每一节的培训课程。\\\\n此次培训活动将会一直持续到课程结束，支教团的成员们都表示从课堂中学到了很多的东西，弥补了大家在教育学方面的知识缺陷，也为前往基地开展教学奠定了理论基础。他们表示将进一步采纳何老师的提议，继续跟进学习更多的关于教育学的具体课程。\\\\n据悉，2012年10月，共青团中国矿业大学委员会便开展了新一轮的支教团成员选拨。由于新开辟了重庆三汇坝合川区的两所小学为我校的支教基地，本次共选拔出了八名成员。从2012年10月份开始，第十五届研究生支教团成员便积极投入到支教的相关准备工作中，并于12月份参与了图文信息中心面向石家田乡九年制学校的赠书活动。在新的一年里，第十五届支教团成员积极的步伐仍然没有放缓，他们每周按时前往徐州师范大学学习教育学等相关课程，并积极同校青协及各院青协合作为支教基地募捐物资。\\\\n\\\\n支教团成员认真听课\\\\n\\\\n支教团成员合影', 'publish_time': 20130328}}, {'id': 453316957169518923, 'distance': 0.6615203619003296, 'entity': {'id': 453316957169518923, 'url': 'https://youth.cumt.edu.cn/info/1010/1709.htm', 'content': '我校第十五届研究生支教团重庆分团赴重庆市合川区三汇镇报到\\\\n作者：第十五届研究生支教团\\\\n8月20日，我校第十五届研究生支教团重庆分团赴支教服务地——重庆市合川区三汇镇报到。\\\\n8月20日14时，我校首届赴渝研究生支教团抵达合川区三汇镇，在镇党委委员、宣传统战委员吴行政和团委副书记杨欢的陪同下赴三汇镇政府报道。在镇政府，5名研究生支教团成员受到了三汇镇党委书记徐育中，镇党委副书记、人大主席何朝碧的亲切接见，并在机关会议室举行了欢迎座谈会。\\\\n座谈会上，徐育中书记对中国矿业大学研究生支教团的到来表示热烈欢迎，对成员们能够放弃优越的生活条件，选择到三汇镇支教一年的行为表示高度赞扬。徐书记详细介绍了三汇镇的经济、教育、文化、交通等方面的基本情况，他讲到，三汇镇过去是一座由煤矿工业和水泥工业带动经济发展的典型城镇，与矿大有着极深的渊源，希望以此次支教团开展支教扶贫接力为契机，加强中国矿业大学与三汇镇的文化联系。徐育中书记还向支教团成员提出了三点希望：一是深入基层，发挥自身专业特长优势；二是立足岗位，积极参与校内外志愿服务；三是学会沉淀，能够在一年时间里有所收获。\\\\n支教团成员回顾了我校在三汇镇办学的历史，对三汇镇党委的热情接待表示感谢，并表示此次能够重返旧校址所在地，为三汇镇的教育发展贡献力量，是他们的期望和梦想。他们讲到，1970年中国矿业大学前身“北京矿业学院”由京西迁，更名为“四川矿业学院”，在那个动荡的岁月里坚持在三汇镇的华蓥山脚下办学，“干打垒以建校舍，就简陋以设讲坛，相扶持以御疾疠，共患难以育桃李”，这是矿大百年校史中最重要、最难忘的一段历史，老一辈矿大校友在这里取得了辉煌的成就。支教团成员们表示，在未来一年的支教扶贫活动中，将以最大的热忱投入到基层教育工作中去，牢记使命，艰苦奋斗，不断追求进步。\\\\n下午四时，在镇党委委员、宣传统战委员吴行政，团委副书记杨欢的陪同下，支教团成员来到了镇教育指导中心，详细了解了关于支教学校的有关情况。随后，支教团参观了“四川矿业学院”旧址，考察了三汇镇基础绿化设施之一——向日葵园和玫瑰园，充分领略了三汇镇在人文、环境等方面的特色。\\\\n据悉，此次我校赴三汇镇支教的5名志愿者，均为在校表现突出同时具备研究生推免入学资格的优秀学生骨干。他们将在重庆市合川区三汇镇完全小学、汇北小学和兴华小学三所学校从事为期一年支教扶贫工作。\\\\n\\\\n中国矿业大学研究生支教团重庆分团合影', 'publish_time': 20130909}}, {'id': 453316957169518468, 'distance': 0.6561839580535889, 'entity': {'id': 453316957169518468, 'url': 'https://youth.cumt.edu.cn/info/1010/1231.htm', 'content': '我校研支团志愿者代表参加与共青团中央书记处第一书记秦宜智的座谈会\\\\n作者：姚文浩\\\\n6月13日，共青团中央书记处第一书记秦宜智在山西灵丘县下北泉集装箱营地进行工作考察并举办座谈会。共青团中央书记处第一书记秦宜智、大同市委书记张吉福、团省委书记赵雁峰、灵丘县委书记张强、团中央驻灵丘扶贫工作队队长阚宝奎等领导出席座谈。我校研究生支教团志愿者代表参加了此次座谈。\\\\n座谈会上秦宜智书记表示，治贫先治愚，扶贫先扶智，扶持教育是精准扶贫的重点工作，青年志愿者承担着很大的责任；同时，他还强调，研究生支教团在支教过程中承担着双重责任，一是要承担作为支教老师的责任，培养更多的学生成人成材，二是大学生应在支教的过程中得到成长，开阔眼界，努力提升自己的能力，争取成人成材。\\\\n在本次座谈会上，我校第十八届研究生支教团山西分团团长姚文浩作为志愿者代表，汇报了矿大研支团开展工作多年来的情况以及山西分团近一年来在教学、扶贫、校园文化等方面所做出的努力及成果，同时也向秦书记汇报了自己在支教过程中努力教会孩子们知识的同时，自己所收获的成长。秦书记对矿大研支团的工作表示认可，并勉励他要继续努力，在基层奉献自己的力量，在基层努力成长。\\\\n最后，秦书记对青年志愿者提出了殷切希望，青年在中国发展的中定会大有作为，鼓励志愿者们多实践，多学习，为国家发展做出贡献。\\\\n\\\\n秦书记与志愿者亲切座谈\\\\n\\\\n秦书记与志愿者亲切座谈\\\\n\\\\n秦书记与志愿真亲切合影', 'publish_time': 20170616}}, {'id': 453316957169518779, 'distance': 0.6525914669036865, 'entity': {'id': 453316957169518779, 'url': 'https://youth.cumt.edu.cn/info/1010/1548.htm', 'content': '我校第十六届研究生支教团(山西分团)顺利抵达服务地\\\\n作者：校团委\\\\n8月22日，我校第十六届研究生支教团山西分团的五名成员顺利抵达服务地——山西省灵丘县石家田乡九年制学校，着手开展为期一年的支教服务活动。支教队员受到了当地相关部门和学校的热烈欢迎。\\\\n22日下午5：00，经过20多个小时的车程，支教团成员安全抵达学校。支教队员到达后，就在队长马鹏的带领下，第一时间投入到了支教准备工作当中。根据支教服务地的工作需求，充分做好心理、身体和能力上的准备，确保支教团每一位成员能够尽快适应支教生活。\\\\n23日上午，支教队员前往石家田学校贫困家庭学生——崔小莲、崔小荣家中，在学生家中，与学生家长进行深入交流，详细了解受助学生的家庭经济、生活状况，向他们介绍矿大研支团，鼓励他们克服家庭经济上的困难，共同支持学生完成学业。在接下来一周的时间，研支团成员白天义务帮助学生们辅导暑假作业，鼓励学生学会普通话，和当地学生很快便建立了友好的联系和友谊；晚上，大家一齐收集教学资料，讨论教学方法，进行教学准备。\\\\n服务的学校远离城市，面临陌生的乡村环境，志愿者在生活、饮食等方面也有些不习惯。但看到孩子们淳朴而又渴望知识的面庞，想到身上肩负的重任，志愿者们纷纷表示，在青春的路上，选择一条奉献的道路，便绝不后悔。接下来一年的支教生活，志愿者一定竭尽所能，为孩子们传递正能量，不辜负学校及社会的期望。\\\\n\\\\n支教团成员顺利抵达服务地\\\\n\\\\n支教团成员辅导学生学习\\\\n\\\\n支教团成员进行家访', 'publish_time': 20140919}}, {'id': 453316957169518491, 'distance': 0.6487733125686646, 'entity': {'id': 453316957169518491, 'url': 'https://youth.cumt.edu.cn/info/1010/1263.htm', 'content': '赢在徐州——中国徐州创新创业大赛分项赛事、第十四届五一数学建模竞赛在我校正式开幕\\\\n作者：徐细润、史彩芳    摄影：王伟、姜佳玲\\\\n\\\\n\\\\n4月29日上午，“赢在徐州——中国徐州创新创业大赛——五一数学建模竞赛”开幕仪式在我校南湖校区图书馆报告厅举行，出席本次开幕仪式的嘉宾有校党委副书记、第十四届五一数学建模竞赛组委会主任曹德欣，江苏省工业与应用数学学会理事长刘继军，徐州市人民政府研究室副主任、市“双创”大赛办常务副主任吴建兴，徐州工程学院副校长李苏北，全国大学生数模竞赛优秀组织工作者、西南交通大学袁俭，中国矿业大学数学学院院长江龙，中国矿业大学数学建模协会主席鲍力铭。参加本次开幕仪式的还有在徐高校的师生代表，中国矿业大学相关部门领导，参赛选手，以及科技日报、徐州日报、徐州电视台、中国新闻网等媒体人士，开幕仪式由校团委书记陈文主持。\\\\n会上，校党委副书记曹德欣致辞，他指出五一数学建模竞赛是众多数模赛事中最早由学生团体自主发起、并一直参与承办且发展迅速，影响深远的重要赛事。这项赛事由中国矿业大学，江苏省工业与应用数学协会，徐州市工业与应用数学协会联合主办，由中国矿业大学大学生数学建模协会和数学学院承办，发源于矿大，立足于徐州和江苏，面向全国，并已影响世界。这为五一数学建模竞赛进一步扩大规模、提升影响注入了新的动力，提供了新的支持，五一数学建模联赛必将越办越好。同时，五一数学建模联赛以自身的影响力为“赢在徐州”系列大赛活动增光添彩，使“赢在徐州”不仅仅赢在了徐州，还影响到了全国，甚至波及世界。最后他预祝五一数学建模竞赛圆满成功，祝参赛同学取得好成绩。\\\\n江苏省工业与应用数学学会理事长刘继军对历届五一数学建模竞赛取得的成果表示祝贺，并向一直以来重视和大力支持“五一数学建模竞赛”发展的全国大学生数学竞赛委员会、江苏省科协等相关部门表示感谢。也预祝本次“赢在徐州——中国徐州创新创业大赛——五一数学建模竞赛”取得圆满成功。\\\\n开幕仪式上，华中地区大学生数学建模邀请赛组委会向本次“赢在徐州——中国徐州创新创业大赛——五一数学建模竞赛”发来贺信，并表示期待着与五一数学建模竞赛加强交流、展开合作。数学建模协会主席鲍力铭同学介绍了本届赛事筹备、组织情况。本次数学建模竞赛的报名工作在今年四月初启动，联赛尝试建立与完善志愿者体系，并尽力做好线上答疑与问题解决机制。而且本届竞赛的参赛规模较往届再次取得了新的突破，吸引了来自10余个国家及地区和国内31省市近14500名大学生报名参赛。值得一提的是，今年与五一数学建模竞赛同一时间开赛的还有华中地区大学生数学建模邀请赛等三项赛事。同时，第十三届参赛学生代表罗凯同学和在场观众们分享了他的参赛心得，他表示建模的过程就是将知识的智慧运用到实践中，再从实践中体味到更多智慧的过程。毋庸置疑，建模过程中会遇到种种困难，但只要能秉持一颗沉着冷静、迎难而上的心，它便是一生的财富，终生受益。\\\\n开幕式最后，曹德欣副书记、刘继军理事长及吴建兴副主任三位嘉宾共同点亮本届联赛的启动球，吴建兴副主任公布本次联赛赛题，本次大赛正式启动。\\\\n\\\\n校党委副书记、第十四届五一数学建模竞赛组委会主任曹德欣致辞\\\\n\\\\n\\\\n江苏省工业与应用数学学会理事长刘继军致辞\\\\n\\\\n\\\\n徐州市人民政府研究室副主任、市“双创”大赛办常务副主任吴建兴致辞\\\\n\\\\n\\\\n校团委书记陈文主持开幕式\\\\n\\\\n\\\\n数学建模协会主席鲍力铭同学介绍了本届赛事筹备、组织情况\\\\n\\\\n\\\\n第十三届参赛学生代表罗凯同学分享参赛心得\\\\n\\\\n\\\\n曹德欣副书记、刘继军理事长及吴建兴副主任三位嘉宾共同点亮本届联赛的启动球\\\\n\\\\n\\\\n出席开幕式的其他领导\\\\n\\\\n\\\\n参加开幕式的学生\\\\n\\\\n参加开幕式的学生', 'publish_time': 20170429}}, {'id': 453316957169518874, 'distance': 0.6486149430274963, 'entity': {'id': 453316957169518874, 'url': 'https://youth.cumt.edu.cn/info/1010/1646.htm', 'content': '我校梦启支教团在“责任中国——人民网2013年度评选”中受到表彰\\\\n作者：谢龙 康娜\\\\n1月15日上午，“责任中国——人民网2013年度评选”颁奖典礼在人民日报社举行，我校化工学院梦启支教团被授予“全国百强实践团”荣誉称号，并获得2013全国大学生社会实践优秀团队二等奖。\\\\n梦启支教团坚持“奉献爱心，回报社会”的宗旨，连续四年走进青川大山，为孩子们开展形式丰富的志愿支教活动。活动受到支教学校、学生、家长及社会各界的支持与肯定，并得到了众多新闻媒体的关注，《人民日报》海外版、《新华日报》、《中国矿业报》、《河南青年报》、《广元日报》、《徐州日报》、《都市晨报》、《广元晚报》、人民网、新华网、中国日报网、中共江苏省委新闻网、江苏共青团网、四川日报网、凤凰网、搜狐网、新浪网等媒体对梦启支教团的事迹进行了采访报道。\\\\n据悉，本次大学生社会实践评选活动由团中央学校部、人民日报政文部指导，人民网主办，旨在落实习近平总书记在今年“五四”青年节期间的讲话，鼓励广大高校学子勇担使命，深入基层体察国情、民情，凝聚青春正能量。评选包含团队（个人）报名、初选入围、网友投票、评委评审等多个环节，活动历时3个多月，500多所高校的近4000支团队参加角逐，最终评选出100支优秀团队及30名个人“实践之星”，其中优秀团队一等奖5个，二等奖10个，三等奖15个，优秀奖70个。\\\\n“责任中国——人民网2013年度评选”是人民网一年一度的年终盛典， 于2013年12月26日正式启动，2014年1月10日结束，共评出“十大责任公民”、“十大最受欢迎嘉宾”、“十大最具影响力政务微博”、“十大最具影响力个人微博”、“2013全国大学生社会实践优秀团队、实践之星”等奖项。此次评选引起了社会各界的广泛关注，共收到574万人次的投票。自2008年至今，人民网“责任中国”年度评选已成功举办了6届。\\\\n\\\\n梦启支教团指导老师谢龙（左三）代表团队领奖\\\\n\\\\n梦启支教团成员开展支教活动\\\\n\\\\n梦启支教团成员开展支教活动\\\\n\\\\n梦启支教团成员开展支教活动\\\\n\\\\n梦启支教团成员进行家访', 'publish_time': 20140119}}]\"] \n"
     ]
    }
   ],
   "execution_count": 1
  },
  {
   "metadata": {
    "ExecuteTime": {
     "end_time": "2024-10-18T16:03:25.019602Z",
     "start_time": "2024-10-18T16:03:25.012277Z"
    }
   },
   "cell_type": "code",
   "source": "",
   "id": "11f30e89c07dc0e2",
   "outputs": [],
   "execution_count": null
  }
 ],
 "metadata": {
  "kernelspec": {
   "display_name": "Python 3",
   "language": "python",
   "name": "python3"
  },
  "language_info": {
   "codemirror_mode": {
    "name": "ipython",
    "version": 2
   },
   "file_extension": ".py",
   "mimetype": "text/x-python",
   "name": "python",
   "nbconvert_exporter": "python",
   "pygments_lexer": "ipython2",
   "version": "2.7.6"
  }
 },
 "nbformat": 4,
 "nbformat_minor": 5
}
