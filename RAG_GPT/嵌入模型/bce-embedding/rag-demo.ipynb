{
 "cells": [
  {
   "cell_type": "code",
   "id": "initial_id",
   "metadata": {
    "collapsed": true,
    "ExecuteTime": {
     "end_time": "2024-10-18T15:59:52.653753Z",
     "start_time": "2024-10-18T15:59:52.296029Z"
    }
   },
   "source": [
    "#创建集合单元\n",
    "from sentence_transformers import SentenceTransformer\n",
    "from pymilvus import FieldSchema, CollectionSchema, DataType, MilvusClient\n",
    "\n",
    "client = MilvusClient(uri=\"http://192.168.200.130:19530\")\n",
    "\n",
    "def create_collection():\n",
    "    # 定义字段 schemas\n",
    "    id_field = FieldSchema(name=\"id\", dtype=DataType.INT64, auto_id=True, is_primary=True)\n",
    "    url_field = FieldSchema(name=\"url\", dtype=DataType.VARCHAR, max_length=65535)\n",
    "    content_field = FieldSchema(name=\"content\", dtype=DataType.VARCHAR, max_length=65535)\n",
    "    vector_field = FieldSchema(name=\"content_vector\", dtype=DataType.FLOAT_VECTOR, dim=768)\n",
    "    publish_time_field = FieldSchema(name=\"publish_time\", dtype=DataType.INT64)\n",
    "\n",
    "    # 创建 Collection schema\n",
    "    schema = CollectionSchema(\n",
    "        fields=[id_field, url_field, content_field, vector_field, publish_time_field],\n",
    "        description=\"CUMT_GPT的数据集\"\n",
    "    )\n",
    "\n",
    "    # 创建 Collection\n",
    "    collection_name = \"cumt_gpt\"\n",
    "    if client.has_collection(collection_name):\n",
    "        client.drop_collection(collection_name)\n",
    "\n",
    "    client.create_collection(collection_name=collection_name, schema=schema)\n",
    "\n",
    "    # 为 content_vector 创建索引\n",
    "    # index_params = client.prepare_index_params()\n",
    "    # index_params.add_index(\n",
    "    #     field_name=\"content_vector\",\n",
    "    #     index_type=\"IVF_FLAT\",\n",
    "    #     metric_type=\"COSINE\",\n",
    "    #     params={\"nlist\": 128}\n",
    "    # )\n",
    "    \n",
    "    # HNSW\n",
    "    index_params = client.prepare_index_params()\n",
    "    index_params.add_index(\n",
    "        field_name=\"content_vector\",\n",
    "        index_type=\"HNSW\",\n",
    "        metric_type=\"COSINE\",\n",
    "        params={\"M\": 32, \"efConstruction\": 150}\n",
    "    )\n",
    "    # index_params = {\n",
    "    #     \"field_name\": \"content_vector\",\n",
    "    #     \"index_type\": \"HNSW\",\n",
    "    #     \"metric_type\": \"COSINE\",\n",
    "    #     \"params\": {\n",
    "    #         \"M\": 32,\n",
    "    #         \"efConstruction\": 150\n",
    "    #     }\n",
    "    # }\n",
    "\n",
    "    client.create_index(\n",
    "        collection_name=collection_name,\n",
    "        index_params=index_params,\n",
    "        sync=False)\n",
    "\n",
    "\n",
    "create_collection()\n",
    "client.list_indexes(collection_name=\"cumt_gpt\")"
   ],
   "outputs": [
    {
     "data": {
      "text/plain": [
       "['content_vector']"
      ]
     },
     "execution_count": 3,
     "metadata": {},
     "output_type": "execute_result"
    }
   ],
   "execution_count": 3
  },
  {
   "metadata": {
    "ExecuteTime": {
     "end_time": "2024-10-18T16:04:41.614853Z",
     "start_time": "2024-10-18T16:04:30.346936Z"
    }
   },
   "cell_type": "code",
   "source": [
    "# 插入数据单元\n",
    "import json\n",
    "from datetime import datetime\n",
    "from pymilvus import FieldSchema, CollectionSchema, DataType, MilvusClient\n",
    "from langchain_community.embeddings import OllamaEmbeddings\n",
    "from sentence_transformers import SentenceTransformer\n",
    "from sklearn.preprocessing import normalize\n",
    "# from sonyflake import SonyFlake\n",
    "\n",
    "client = MilvusClient(uri=\"http://192.168.200.130:19530\")\n",
    "\n",
    "def emb_text(text):\n",
    "    embedding_model = SentenceTransformer('maidalun1020/bce-embedding-base_v1')\n",
    "    embedding_vectors = embedding_model.encode(text, batch_size=128)\n",
    "    # embedding_vectors = normalize(embedding_vectors, norm='l2')\n",
    "    \n",
    "    # embedding_model = OllamaEmbeddings(model=\"qwen2.5:7b\")\n",
    "    # embedding_vectors = embedding_model.embed_query(text)\n",
    "    \n",
    "    return embedding_vectors\n",
    "\n",
    "# 文档列表\n",
    "# docs = [\n",
    "#     \"Artificial intelligence was founded as an academic discipline in 1956.\",\n",
    "#     \"Alan Turing was the first person to conduct substantial research in AI.\",\n",
    "#     \"Born in Maida Vale, London, Turing was raised in southern England.\",\n",
    "# ]\n",
    "# doc = \"矿小助是一款由FlyingStudio（中国矿业大学翔工作室）开发维护的校园软件。提供课表、考试、成绩、校车校历、图书馆藏、校卡余额、宿舍电量等查询功能；同时具有课表导入日历、加权成绩计算、校园网自动登录、个性化主题背景等实用功能。\"\n",
    "\n",
    "contents = []\n",
    "\n",
    "# 打开 JSON 文件\n",
    "# filename = '原始数据/articles.json'\n",
    "# filename = ('原始数据/kxz.json')\n",
    "filename = '原始数据/news.json'\n",
    "# filename = '原始数据/矿大新闻网.json'\n",
    "with open(filename, 'r', encoding='utf-8') as f:\n",
    "    python_data = json.load(f)\n",
    "    for data in python_data['data']:\n",
    "        contents.append(data.get(\"content\"))\n",
    "\n",
    "vectors = emb_text(contents)\n",
    "\n",
    "# 要插入的数据\n",
    "datas = []\n",
    "i = 0\n",
    "for data in python_data['data']:\n",
    "    # 创建一个 SonyFlake 实例\n",
    "    # flake = SonyFlake()\n",
    "\n",
    "    # 生成唯一ID\n",
    "    # sonyflake_id = flake.next_id()\n",
    "    \n",
    "    # 使用 strptime 将字符串解析为日期对象\n",
    "    date_obj = datetime.strptime(data.get(\"date\"), \"%Y-%m-%d\")\n",
    "    \n",
    "    # 使用 strftime 格式化为所需的格式，并将其转换为整数\n",
    "    date_int = int(date_obj.strftime(\"%Y%m%d\"))\n",
    "\n",
    "    datas.append({\n",
    "            # \"id\": sonyflake_id,\n",
    "            \"url\": data.get(\"url\"),\n",
    "            \"content\": data.get(\"content\"),\n",
    "            \"content_vector\": vectors[i],\n",
    "            \"publish_time\": date_int\n",
    "        })\n",
    "    i += 1\n",
    "\n",
    "# 打印每个向量的维度和生成的嵌入\n",
    "print(\"向量数量: \", len(vectors))\n",
    "print(\"向量维度:\", vectors.shape)\n",
    "# print(contents)\n",
    "# print(\"生成的向量:\", vectors)\n",
    "\n",
    "# 插入数据\n",
    "res = client.insert(collection_name=\"cumt_gpt\", data=datas)\n",
    "print(res)\n"
   ],
   "id": "1b157dbc4b0e3500",
   "outputs": [
    {
     "name": "stdout",
     "output_type": "stream",
     "text": [
      "向量数量:  1\n",
      "向量维度: (1, 768)\n",
      "{'insert_count': 1, 'ids': [453316957169519028]}\n"
     ]
    }
   ],
   "execution_count": 10
  },
  {
   "metadata": {
    "ExecuteTime": {
     "end_time": "2024-10-18T16:28:42.351466Z",
     "start_time": "2024-10-18T16:28:35.568532Z"
    }
   },
   "cell_type": "code",
   "source": [
    "# 测试向量搜索单元\n",
    "from langchain_community.embeddings import OllamaEmbeddings\n",
    "from sentence_transformers import SentenceTransformer\n",
    "from pymilvus import FieldSchema, CollectionSchema, DataType, MilvusClient\n",
    "from sklearn.preprocessing import normalize\n",
    "\n",
    "client = MilvusClient(uri=\"http://192.168.200.130:19530\")\n",
    "\n",
    "def emb_text(text):\n",
    "    embedding_model = SentenceTransformer('maidalun1020/bce-embedding-base_v1')\n",
    "    embedding_vectors = embedding_model.encode(text)\n",
    "    # embedding_vectors = normalize(embedding_vectors, norm='l2')\n",
    "    \n",
    "    # embedding_model = OllamaEmbeddings(model=\"qwen2.5:7b\")\n",
    "    # embedding_vectors = embedding_model.embed_query(text)\n",
    "    print(len(embedding_vectors))\n",
    "    return embedding_vectors\n",
    "\n",
    "doc = [\"孙杨有什么奖项\"]\n",
    "\n",
    "doc_vector = emb_text(doc)\n",
    "\n",
    "search_params = {\n",
    "    \"metric_type\": \"COSINE\",\n",
    "    \"params\": {}\n",
    "}\n",
    "\n",
    "# IVF_FLAT\n",
    "# res = client.search(\n",
    "#     collection_name=\"cumt_gpt\",\n",
    "#     data=[doc_vector],\n",
    "#     limit=3,\n",
    "#     output_fields=[\"id\", \"url\", \"content\", \"publish_time\"],\n",
    "#     search_params=search_params\n",
    "# )\n",
    "\n",
    "# HNSW\n",
    "res = client.search(\n",
    "  collection_name=\"cumt_gpt\", # Collection name\n",
    "  data=doc_vector, # Replace with your query vector\n",
    "  search_params={\n",
    "    \"metric_type\": \"COSINE\",\n",
    "    \"params\": {\"ef\":150, \"radius\":0.4}, # Search parameters\n",
    "  }, # Search parameters\n",
    "  limit=10, # Max. number of search results to return\n",
    "  output_fields=[\"id\",\"url\",\"content\",\"publish_time\"], # Fields to return in the search results\n",
    "  consistency_level=\"Bounded\"\n",
    ")\n",
    "\n",
    "\n",
    "print(res)"
   ],
   "id": "92d5192b3c917466",
   "outputs": [
    {
     "name": "stdout",
     "output_type": "stream",
     "text": [
      "1\n",
      "data: [\"[{'id': 453316957169518312, 'distance': 0.5586036443710327, 'entity': {'publish_time': 20241011, 'id': 453316957169518312, 'url': 'https://www.cumt.edu.cn//info/1127/68141.htm', 'content': '【镜湖大讲堂】（2024-15）信念·挑战·超越——我与冠军面对面\\\\n日期：2024-10-11浏览量：\\\\n学术公告\\\\n\\\\n讲座主题：2024年镜湖大讲堂系列讲座之十五——信念·挑战·超越：我与冠军面对面（zsbgsp-202410-004）\\\\n分享人：孙杨奥运冠军\\\\n时间：2024年10月16日15：00\\\\n地点：中国矿业大学镜湖大讲堂\\\\n主办方：共青团中国矿业大学委员会\\\\n中国矿业大学镜湖讲座中心\\\\n\\\\n分享嘉宾介绍：\\\\n孙杨，中国男子游泳运动员，国际级运动健将，以其在长距离自由泳项目中的卓越表现而闻名于世。男子1500米自由泳世界纪录保持者男子400米自由泳奥运会纪录保持者，2012年伦敦奥运会男子400米自由泳、男子1500米自由泳冠军；2016年里约奥运会男子200米自由泳冠军；2024年全国夏季游泳锦标赛男子400米自由泳冠军。世界泳坛历史上唯一一位男子200米自由泳、男子400米自由泳、男子1500米自由泳的奥运会世锦赛大满贯冠军得主，史上唯一一位男子400米自由泳世锦赛四连冠，唯一一位男子800米自由泳世锦赛三连冠，男子自由泳个人单项金牌数居世界第一。\\\\n\\\\n内容简介：\\\\n劈波斩浪，铸就辉煌。中国的水上竞速传奇，始于无数清晨的第一缕阳光与最后一抹晚霞间的不懈锤炼。中国游泳运动，深受“坚韧不拔，以达彼岸”“技精源于心诚”等传统体育精神与奥林匹克理念的双重滋养，锻造了既注重个体突破极限、亦强调团队协作荣耀的“水陆兼修”训练体系，以及以“赛场内外皆君子”“胜在毫厘，贵在千里”等为核心的文化底蕴。本次活动，泳坛名将孙杨将以自身奋斗历程为线索，引领我们深入探索竞技体育的魅力，细致解读专业训练、心理调适、战略规划的关键所在，引领我们深入理解如何在全球化浪潮中，继续书写中国体育运动的新篇章。\\\\n\\\\n下一条：【镜湖大讲堂】（2024-14）—— 沟通与细节的力量：会沟通和注重细节慢慢就成了一个靠谱儿的人'}}]\"] \n"
     ]
    }
   ],
   "execution_count": 13
  },
  {
   "metadata": {},
   "cell_type": "code",
   "source": "",
   "id": "11f30e89c07dc0e2",
   "outputs": [],
   "execution_count": null
  }
 ],
 "metadata": {
  "kernelspec": {
   "display_name": "Python 3",
   "language": "python",
   "name": "python3"
  },
  "language_info": {
   "codemirror_mode": {
    "name": "ipython",
    "version": 2
   },
   "file_extension": ".py",
   "mimetype": "text/x-python",
   "name": "python",
   "nbconvert_exporter": "python",
   "pygments_lexer": "ipython2",
   "version": "2.7.6"
  }
 },
 "nbformat": 4,
 "nbformat_minor": 5
}
